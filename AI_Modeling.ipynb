{
 "cells": [
  {
   "cell_type": "code",
   "execution_count": 12,
   "id": "c5097753",
   "metadata": {},
   "outputs": [],
   "source": [
    "import numpy as np\n",
    "from sklearn.datasets import load_iris\n",
    "from sklearn.model_selection import train_test_split\n",
    "from sklearn.preprocessing import StandardScaler\n",
    "from sklearn.metrics import accuracy_score, precision_score, recall_score, f1_score, confusion_matrix\n",
    "from sklearn.linear_model import LogisticRegression\n",
    "\n",
    "\n"
   ]
  },
  {
   "cell_type": "markdown",
   "id": "882f001f",
   "metadata": {},
   "source": [
    "# Step 2"
   ]
  },
  {
   "cell_type": "code",
   "execution_count": 13,
   "id": "c72190d8",
   "metadata": {},
   "outputs": [],
   "source": [
    "# Load dataset\n",
    "data = load_iris()\n",
    "X, y = data.data, data.target"
   ]
  },
  {
   "cell_type": "markdown",
   "id": "9a87f7cf",
   "metadata": {},
   "source": [
    "# Train-test split"
   ]
  },
  {
   "cell_type": "code",
   "execution_count": 14,
   "id": "393f9513",
   "metadata": {},
   "outputs": [],
   "source": [
    "X_train, X_test, y_train, y_test = train_test_split(\n",
    "    X, y, test_size=0.2, random_state=42\n",
    ")"
   ]
  },
  {
   "cell_type": "markdown",
   "id": "73283120",
   "metadata": {},
   "source": [
    "# Feature scaling"
   ]
  },
  {
   "cell_type": "code",
   "execution_count": 16,
   "id": "7f582989",
   "metadata": {},
   "outputs": [
    {
     "name": "stdout",
     "output_type": "stream",
     "text": [
      "Training samples: 120, Test samples: 30\n"
     ]
    }
   ],
   "source": [
    "scaler = StandardScaler()\n",
    "X_train_scaled = scaler.fit_transform(X_train)\n",
    "X_test_scaled = scaler.transform(X_test)\n",
    "\n",
    "print(f\"Training samples: {X_train.shape[0]}, Test samples: {X_test.shape[0]}\")\n",
    "\n",
    "# %% [markdown]\n",
    "# ## 2. Logistic Regression (scikit-learn)\n",
    "# %%\n",
    "from sklearn.linear_model import LogisticRegression\n",
    "from sklearn.metrics import (accuracy_score, precision_score,\n",
    "                           recall_score, f1_score, confusion_matrix)\n"
   ]
  },
  {
   "cell_type": "markdown",
   "id": "899b9dc0",
   "metadata": {},
   "source": [
    "# Initialize and train"
   ]
  },
  {
   "cell_type": "code",
   "execution_count": 17,
   "id": "70a4c94b",
   "metadata": {},
   "outputs": [],
   "source": [
    "logreg = LogisticRegression(\n",
    "    penalty='l2',    # Regularization type\n",
    "    C=1.0,          # Inverse regularization strength\n",
    "    max_iter=1000,   # Maximum iterations\n",
    "    random_state=42\n",
    ")\n",
    "logreg.fit(X_train_scaled, y_train)\n",
    "\n",
    "# Predictions\n",
    "y_pred = logreg.predict(X_test_scaled)\n",
    "\n"
   ]
  },
  {
   "cell_type": "markdown",
   "id": "22a6b6c7",
   "metadata": {},
   "source": [
    "# Evaluation"
   ]
  },
  {
   "cell_type": "code",
   "execution_count": 18,
   "id": "1de34de0",
   "metadata": {},
   "outputs": [],
   "source": [
    "\n",
    "# Define the print_metrics function with multiclass support\n",
    "def print_metrics(y_true, y_pred):\n",
    "    print(f\"Accuracy: {accuracy_score(y_true, y_pred):.4f}\")\n",
    "    print(f\"Precision: {precision_score(y_true, y_pred, average='weighted'):.4f}\")\n",
    "    print(f\"Recall: {recall_score(y_true, y_pred, average='weighted'):.4f}\")\n",
    "    print(f\"F1 Score: {f1_score(y_true, y_pred, average='weighted'):.4f}\")\n",
    "    print(\"Confusion Matrix:\")\n",
    "    print(confusion_matrix(y_true, y_pred))"
   ]
  },
  {
   "cell_type": "code",
   "execution_count": 19,
   "id": "2263c41e",
   "metadata": {},
   "outputs": [
    {
     "name": "stdout",
     "output_type": "stream",
     "text": [
      "Logistic Regression Performance:\n",
      "Accuracy: 1.0000\n",
      "Precision: 1.0000\n",
      "Recall: 1.0000\n",
      "F1 Score: 1.0000\n",
      "Confusion Matrix:\n",
      "[[10  0  0]\n",
      " [ 0  9  0]\n",
      " [ 0  0 11]]\n"
     ]
    }
   ],
   "source": [
    "\n",
    "\n",
    "# Example usage with Logistic Regression\n",
    "\n",
    "# Train a Logistic Regression model\n",
    "model = LogisticRegression(max_iter=200)\n",
    "model.fit(X_train, y_train)\n",
    "\n",
    "# Make predictions on the test set\n",
    "y_pred = model.predict(X_test)\n",
    "\n",
    "# Print performance metrics\n",
    "print(\"Logistic Regression Performance:\")\n",
    "print_metrics(y_test, y_pred)"
   ]
  },
  {
   "cell_type": "markdown",
   "id": "f7c6c543",
   "metadata": {},
   "source": [
    "#  Neural Network (PyTorch)"
   ]
  },
  {
   "cell_type": "code",
   "execution_count": 29,
   "id": "69101826",
   "metadata": {},
   "outputs": [],
   "source": [
    "import torch\n",
    "import torch.nn as nn\n",
    "import torch.optim as optim\n",
    "from torch.utils.data import DataLoader, TensorDataset"
   ]
  },
  {
   "cell_type": "markdown",
   "id": "2883d234",
   "metadata": {},
   "source": [
    "# Convert data to PyTorch tensors"
   ]
  },
  {
   "cell_type": "code",
   "execution_count": 30,
   "id": "f37b2957",
   "metadata": {},
   "outputs": [],
   "source": [
    "X_train_tensor = torch.tensor(X_train, dtype=torch.float32)\n",
    "X_test_tensor = torch.tensor(X_test, dtype=torch.float32)\n",
    "y_train_tensor = torch.tensor(y_train, dtype=torch.long)  # Targets must be integers\n",
    "y_test_tensor = torch.tensor(y_test, dtype=torch.long)"
   ]
  },
  {
   "cell_type": "markdown",
   "id": "fd58d13c",
   "metadata": {},
   "source": [
    "# Create DataLoader for training\n"
   ]
  },
  {
   "cell_type": "code",
   "execution_count": 31,
   "id": "64a92191",
   "metadata": {},
   "outputs": [],
   "source": [
    "train_dataset = TensorDataset(X_train_tensor, y_train_tensor)\n",
    "train_loader = DataLoader(train_dataset, batch_size=16, shuffle=True)"
   ]
  },
  {
   "cell_type": "markdown",
   "id": "3407909d",
   "metadata": {},
   "source": [
    "# Define a simple neural network"
   ]
  },
  {
   "cell_type": "code",
   "execution_count": 33,
   "id": "66534d6c",
   "metadata": {},
   "outputs": [],
   "source": [
    "\n",
    "class SimpleNN(nn.Module):\n",
    "    def __init__(self, input_size, hidden_size, num_classes):\n",
    "        super(SimpleNN, self).__init__()\n",
    "        self.fc1 = nn.Linear(input_size, hidden_size)  # Input layer\n",
    "        self.relu = nn.ReLU()  # Activation function\n",
    "        self.fc2 = nn.Linear(hidden_size, num_classes)  # Output layer\n",
    "\n",
    "    def forward(self, x):\n",
    "        out = self.fc1(x)\n",
    "        out = self.relu(out)\n",
    "        out = self.fc2(out)\n",
    "        return out\n"
   ]
  },
  {
   "cell_type": "markdown",
   "id": "9a64839b",
   "metadata": {},
   "source": [
    "# Initialize the model"
   ]
  },
  {
   "cell_type": "code",
   "execution_count": 34,
   "id": "ee1ab183",
   "metadata": {},
   "outputs": [],
   "source": [
    "input_size = X_train.shape[1]  # Number of features (4 for Iris dataset)\n",
    "hidden_size = 16  # Number of neurons in the hidden layer\n",
    "num_classes = len(set(y_train))  # Number of classes (3 for Iris dataset)\n",
    "model = SimpleNN(input_size, hidden_size, num_classes)\n"
   ]
  },
  {
   "cell_type": "markdown",
   "id": "e3feb574",
   "metadata": {},
   "source": [
    "# Define loss function and optimizer\n"
   ]
  },
  {
   "cell_type": "code",
   "execution_count": 35,
   "id": "9440011a",
   "metadata": {},
   "outputs": [],
   "source": [
    "criterion = nn.CrossEntropyLoss()  # Suitable for multiclass classification\n",
    "optimizer = optim.Adam(model.parameters(), lr=0.01)"
   ]
  },
  {
   "cell_type": "markdown",
   "id": "10338c26",
   "metadata": {},
   "source": [
    "# Training loop"
   ]
  },
  {
   "cell_type": "code",
   "execution_count": 36,
   "id": "151744a5",
   "metadata": {},
   "outputs": [
    {
     "name": "stdout",
     "output_type": "stream",
     "text": [
      "Epoch 10, Loss: 0.3454\n",
      "Epoch 20, Loss: 0.2701\n",
      "Epoch 30, Loss: 0.0818\n",
      "Epoch 40, Loss: 0.1199\n",
      "Epoch 50, Loss: 0.0299\n"
     ]
    }
   ],
   "source": [
    "for epoch in range(50):\n",
    "    for inputs, labels in train_loader:\n",
    "        optimizer.zero_grad()  # Zero the gradients\n",
    "        outputs = model(inputs)  # Forward pass\n",
    "        loss = criterion(outputs, labels)  # Compute loss\n",
    "        loss.backward()  # Backward pass\n",
    "        optimizer.step()  # Update weights\n",
    "\n",
    "    if (epoch + 1) % 10 == 0:\n",
    "        print(f\"Epoch {epoch+1}, Loss: {loss.item():.4f}\")"
   ]
  },
  {
   "cell_type": "code",
   "execution_count": 37,
   "id": "67447fa3",
   "metadata": {},
   "outputs": [
    {
     "name": "stdout",
     "output_type": "stream",
     "text": [
      "\n",
      "Neural Network Performance:\n",
      "Accuracy: 0.8667\n",
      "Precision: 0.8683\n",
      "Recall: 0.8667\n",
      "F1 Score: 0.8614\n",
      "Confusion Matrix:\n",
      "[[10  0  0]\n",
      " [ 2  6  1]\n",
      " [ 0  1 10]]\n"
     ]
    }
   ],
   "source": [
    "model.eval()\n",
    "all_preds = []\n",
    "with torch.no_grad():\n",
    "    for inputs, labels in test_loader:\n",
    "        outputs = model(inputs)\n",
    "        _, preds = torch.max(outputs, 1)\n",
    "        all_preds.extend(preds.numpy())\n",
    "\n",
    "print(\"\\nNeural Network Performance:\")\n",
    "print_metrics(y_test, all_preds)"
   ]
  },
  {
   "cell_type": "code",
   "execution_count": 39,
   "id": "e8291390",
   "metadata": {},
   "outputs": [
    {
     "name": "stdout",
     "output_type": "stream",
     "text": [
      "Test Accuracy: 0.9667\n",
      "\n",
      "Sample Predictions:\n",
      "Predicted: versicolor, Actual: versicolor\n",
      "Predicted: setosa, Actual: setosa\n",
      "Predicted: virginica, Actual: virginica\n",
      "Predicted: versicolor, Actual: versicolor\n",
      "Predicted: versicolor, Actual: versicolor\n",
      "Predicted: setosa, Actual: setosa\n",
      "Predicted: versicolor, Actual: versicolor\n",
      "Predicted: virginica, Actual: virginica\n",
      "Predicted: virginica, Actual: versicolor\n",
      "Predicted: versicolor, Actual: versicolor\n"
     ]
    }
   ],
   "source": [
    "# Evaluate the model on the test set\n",
    "with torch.no_grad():\n",
    "    outputs = model(X_test_tensor)\n",
    "    _, predicted = torch.max(outputs, 1)  # Get predicted class indices\n",
    "    accuracy = (predicted == y_test_tensor).sum().item() / len(y_test_tensor)\n",
    "    print(f\"Test Accuracy: {accuracy:.4f}\")\n",
    "\n",
    "# Example: Mapping results to class labels\n",
    "class_names = ['setosa', 'versicolor', 'virginica']  # Class names for the Iris dataset\n",
    "predictions = [class_names[pred] for pred in predicted.numpy()]  # Map predictions to class names\n",
    "actuals = [class_names[label] for label in y_test_tensor.numpy()]  # Map actual labels to class names\n",
    "\n",
    "# Print a few results\n",
    "print(\"\\nSample Predictions:\")\n",
    "for i in range(10):  # Displaying first 10 predictions\n",
    "    print(f\"Predicted: {predictions[i]}, Actual: {actuals[i]}\")"
   ]
  },
  {
   "cell_type": "markdown",
   "id": "5c8096a5",
   "metadata": {},
   "source": [
    "# 1. Analyze Metrics in Class-Imbalanced Scenarios"
   ]
  },
  {
   "cell_type": "code",
   "execution_count": 40,
   "id": "53db7d65",
   "metadata": {},
   "outputs": [
    {
     "name": "stdout",
     "output_type": "stream",
     "text": [
      "Training samples: 56, Test samples: 14\n"
     ]
    }
   ],
   "source": [
    "from sklearn.utils import resample\n",
    "\n",
    "# Separate majority and minority classes\n",
    "majority_class = data.target_names[0]  # Let's assume 'setosa' is the majority class\n",
    "minority_classes = data.target_names[1:]  # 'versicolor' and 'virginica'\n",
    "\n",
    "# Create an imbalanced dataset by undersampling one class\n",
    "X_majority = X[y == 0]  # Majority class samples\n",
    "y_majority = y[y == 0]\n",
    "\n",
    "X_minority = X[y != 0]  # Minority class samples\n",
    "y_minority = y[y != 0]\n",
    "\n",
    "# Downsample the minority class to create imbalance\n",
    "X_minority_downsampled, y_minority_downsampled = resample(\n",
    "    X_minority, y_minority, replace=False, n_samples=int(len(X_minority) * 0.2), random_state=42\n",
    ")\n",
    "\n",
    "# Combine majority and downsampled minority\n",
    "X_imbalanced = np.vstack((X_majority, X_minority_downsampled))\n",
    "y_imbalanced = np.hstack((y_majority, y_minority_downsampled))\n",
    "\n",
    "# Train-test split for the imbalanced dataset\n",
    "X_train_imb, X_test_imb, y_train_imb, y_test_imb = train_test_split(\n",
    "    X_imbalanced, y_imbalanced, test_size=0.2, random_state=42\n",
    ")\n",
    "\n",
    "# Scale features\n",
    "scaler = StandardScaler()\n",
    "X_train_imb_scaled = scaler.fit_transform(X_train_imb)\n",
    "X_test_imb_scaled = scaler.transform(X_test_imb)\n",
    "\n",
    "print(f\"Training samples: {len(y_train_imb)}, Test samples: {len(y_test_imb)}\")"
   ]
  },
  {
   "cell_type": "markdown",
   "id": "339b1fff",
   "metadata": {},
   "source": [
    "#                               Bones Task!"
   ]
  },
  {
   "cell_type": "markdown",
   "id": "022ed50a",
   "metadata": {},
   "source": [
    "## 1. Code: Train and Evaluate Models on Imbalanced Data\n",
    "### Scikit-Learn Logistic Regression:"
   ]
  },
  {
   "cell_type": "code",
   "execution_count": 45,
   "id": "d0ca9771",
   "metadata": {},
   "outputs": [
    {
     "name": "stdout",
     "output_type": "stream",
     "text": [
      "Logistic Regression on Imbalanced Data:\n",
      "Accuracy: 1.0000\n",
      "Precision: 1.0000\n",
      "Recall: 1.0000\n",
      "F1 Score: 1.0000\n",
      "Confusion Matrix:\n",
      "[[12  0  0]\n",
      " [ 0  1  0]\n",
      " [ 0  0  1]]\n"
     ]
    }
   ],
   "source": [
    "# Train Logistic Regression on imbalanced data\n",
    "logreg_imb = LogisticRegression(C=1.0, max_iter=1000, random_state=42)\n",
    "logreg_imb.fit(X_train_imb_scaled, y_train_imb)\n",
    "y_pred_logreg_imb = logreg_imb.predict(X_test_imb_scaled)\n",
    "\n",
    "print(\"Logistic Regression on Imbalanced Data:\")\n",
    "print_metrics(y_test_imb, y_pred_logreg_imb)"
   ]
  },
  {
   "cell_type": "markdown",
   "id": "8e648d63",
   "metadata": {},
   "source": [
    "### PyTorch Neural Network:"
   ]
  },
  {
   "cell_type": "code",
   "execution_count": 46,
   "id": "338b2ded",
   "metadata": {},
   "outputs": [
    {
     "name": "stdout",
     "output_type": "stream",
     "text": [
      "Epoch 10, Loss: 0.1416\n",
      "Epoch 20, Loss: 0.2250\n",
      "Epoch 30, Loss: 0.0119\n",
      "Epoch 40, Loss: 0.0607\n",
      "Epoch 50, Loss: 0.0653\n",
      "\n",
      "Neural Network on Imbalanced Data:\n",
      "Accuracy: 1.0000\n",
      "Precision: 1.0000\n",
      "Recall: 1.0000\n",
      "F1 Score: 1.0000\n",
      "Confusion Matrix:\n",
      "[[12  0  0]\n",
      " [ 0  1  0]\n",
      " [ 0  0  1]]\n"
     ]
    }
   ],
   "source": [
    "# Convert imbalanced data to PyTorch tensors\n",
    "X_train_imb_tensor = torch.tensor(X_train_imb_scaled, dtype=torch.float32)\n",
    "X_test_imb_tensor = torch.tensor(X_test_imb_scaled, dtype=torch.float32)\n",
    "y_train_imb_tensor = torch.tensor(y_train_imb, dtype=torch.long)\n",
    "y_test_imb_tensor = torch.tensor(y_test_imb, dtype=torch.long)\n",
    "\n",
    "# Create DataLoader for imbalanced training data\n",
    "train_dataset_imb = TensorDataset(X_train_imb_tensor, y_train_imb_tensor)\n",
    "train_loader_imb = DataLoader(train_dataset_imb, batch_size=16, shuffle=True)\n",
    "\n",
    "# Create DataLoader for imbalanced test data (FIXED)\n",
    "test_dataset_imb = TensorDataset(X_test_imb_tensor, y_test_imb_tensor)\n",
    "test_loader_imb = DataLoader(test_dataset_imb, batch_size=16, shuffle=False)  # Shuffle is False for testing\n",
    "\n",
    "# Train the neural network on imbalanced data\n",
    "model_imb = SimpleNN(input_size, hidden_size, num_classes)\n",
    "criterion_imb = nn.CrossEntropyLoss()\n",
    "optimizer_imb = optim.Adam(model_imb.parameters(), lr=0.01)\n",
    "\n",
    "for epoch in range(50):\n",
    "    for inputs, labels in train_loader_imb:\n",
    "        optimizer_imb.zero_grad()\n",
    "        outputs = model_imb(inputs)\n",
    "        loss = criterion_imb(outputs, labels)\n",
    "        loss.backward()\n",
    "        optimizer_imb.step()\n",
    "\n",
    "    if (epoch + 1) % 10 == 0:\n",
    "        print(f\"Epoch {epoch+1}, Loss: {loss.item():.4f}\")\n",
    "\n",
    "# Evaluate the neural network on imbalanced data\n",
    "model_imb.eval()\n",
    "all_preds_imb = []\n",
    "with torch.no_grad():\n",
    "    for inputs, labels in test_loader_imb:  # Now test_loader_imb is defined\n",
    "        outputs = model_imb(inputs)\n",
    "        _, preds = torch.max(outputs, 1)\n",
    "        all_preds_imb.extend(preds.numpy())\n",
    "\n",
    "print(\"\\nNeural Network on Imbalanced Data:\")\n",
    "print_metrics(y_test_imb, all_preds_imb)"
   ]
  },
  {
   "cell_type": "markdown",
   "id": "297744c7",
   "metadata": {},
   "source": [
    "## Visualization"
   ]
  },
  {
   "cell_type": "code",
   "execution_count": 47,
   "id": "4225956c",
   "metadata": {},
   "outputs": [
    {
     "data": {
      "image/png": "[encoded data removed]",
      "text/plain": [
       "<Figure size 640x480 with 2 Axes>"
      ]
     },
     "metadata": {},
     "output_type": "display_data"
    }
   ],
   "source": [
    "import seaborn as sns\n",
    "import matplotlib.pyplot as plt\n",
    "\n",
    "cm = confusion_matrix(y_test_imb, all_preds_imb)\n",
    "sns.heatmap(cm, annot=True, fmt='d', cmap='Blues')\n",
    "plt.xlabel('Predicted')\n",
    "plt.ylabel('Actual')\n",
    "plt.show()"
   ]
  },
  {
   "cell_type": "markdown",
   "id": "439ee234",
   "metadata": {},
   "source": [
    "# 2. Train with Different C Values in Scikit-Learn\n"
   ]
  },
  {
   "cell_type": "markdown",
   "id": "38a15438",
   "metadata": {},
   "source": [
    "### Code: Train Logistic Regression with Different C Values\n"
   ]
  },
  {
   "cell_type": "code",
   "execution_count": 49,
   "id": "ea3497e7",
   "metadata": {},
   "outputs": [
    {
     "name": "stdout",
     "output_type": "stream",
     "text": [
      "\n",
      "Results for C = 1:\n",
      "Accuracy: 1.0000\n",
      "Precision: 1.0000\n",
      "Recall: 1.0000\n",
      "F1 Score: 1.0000\n",
      "Confusion Matrix:\n",
      "[[10  0  0]\n",
      " [ 0  9  0]\n",
      " [ 0  0 11]]\n",
      "\n",
      "Results for C = 0.5:\n",
      "Accuracy: 1.0000\n",
      "Precision: 1.0000\n",
      "Recall: 1.0000\n",
      "F1 Score: 1.0000\n",
      "Confusion Matrix:\n",
      "[[10  0  0]\n",
      " [ 0  9  0]\n",
      " [ 0  0 11]]\n",
      "\n",
      "Results for C = 3:\n",
      "Accuracy: 1.0000\n",
      "Precision: 1.0000\n",
      "Recall: 1.0000\n",
      "F1 Score: 1.0000\n",
      "Confusion Matrix:\n",
      "[[10  0  0]\n",
      " [ 0  9  0]\n",
      " [ 0  0 11]]\n",
      "\n",
      "Results for C = 10:\n",
      "Accuracy: 1.0000\n",
      "Precision: 1.0000\n",
      "Recall: 1.0000\n",
      "F1 Score: 1.0000\n",
      "Confusion Matrix:\n",
      "[[10  0  0]\n",
      " [ 0  9  0]\n",
      " [ 0  0 11]]\n"
     ]
    }
   ],
   "source": [
    "C_values = [1, 0.5, 3, 10]\n",
    "\n",
    "for C in C_values:\n",
    "    logreg_c = LogisticRegression(C=C, max_iter=1000, random_state=42)\n",
    "    logreg_c.fit(X_train_scaled, y_train)\n",
    "    y_pred_c = logreg_c.predict(X_test_scaled)\n",
    "    \n",
    "    print(f\"\\nResults for C = {C}:\")\n",
    "    print_metrics(y_test, y_pred_c)"
   ]
  }
 ],
 "metadata": {
  "kernelspec": {
   "display_name": "Python 3",
   "language": "python",
   "name": "python3"
  },
  "language_info": {
   "codemirror_mode": {
    "name": "ipython",
    "version": 3
   },
   "file_extension": ".py",
   "mimetype": "text/x-python",
   "name": "python",
   "nbconvert_exporter": "python",
   "pygments_lexer": "ipython3",
   "version": "3.13.2"
  }
 },
 "nbformat": 4,
 "nbformat_minor": 5
}
